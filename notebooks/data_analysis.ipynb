{
 "cells": [
  {
   "cell_type": "code",
   "execution_count": null,
   "id": "initial_id",
   "metadata": {
    "collapsed": true
   },
   "outputs": [],
   "source": [
    "import os\n",
    "import re\n",
    "import matplotlib.pyplot as plt\n",
    "import seaborn as sns\n",
    "from collections import Counter\n",
    "\n",
    "# Đường dẫn thư mục chứa ảnh đã xử lý\n",
    "image_dir = \"../dataset/images/processed_images\"\n",
    "label_dir = \"../dataset/labels\"\n",
    "\n",
    "# Regex để tìm class_id từ tên file\n",
    "pattern = re.compile(r'cls(\\d+)\\.jpg$')\n",
    "\n",
    "class_ids = []\n",
    "\n",
    "# Lặp qua toàn bộ file ảnh\n",
    "for fname in os.listdir(image_dir):\n",
    "    match = pattern.search(fname)\n",
    "    if match:\n",
    "        class_id = int(match.group(1))\n",
    "        class_ids.append(class_id)\n",
    "\n",
    "# Đếm số lượng ảnh mỗi class\n",
    "counter = Counter(class_ids)\n",
    "\n",
    "# In thông tin\n",
    "print(f\"📌 Tổng ảnh: {len(class_ids)}\")\n",
    "print(f\"📌 Số lớp: {len(counter)}\")\n",
    "print(f\"📌 Số ảnh / lớp:\")\n",
    "for class_id, count in sorted(counter.items()):\n",
    "    print(f\" - Class {class_id:2d}: {count} ảnh\")\n",
    "\n",
    "# Vẽ biểu đồ phân bố class\n",
    "sns.set(style=\"whitegrid\")\n",
    "plt.figure(figsize=(12, 5))\n",
    "sns.barplot(x=list(counter.keys()), y=list(counter.values()), palette=\"Blues_d\")\n",
    "plt.title(\"Phân bố số ảnh theo class\")\n",
    "plt.xlabel(\"Class ID\")\n",
    "plt.ylabel(\"Số ảnh\")\n",
    "plt.xticks(rotation=45)\n",
    "plt.tight_layout()\n",
    "plt.show()\n"
   ]
  }
 ],
 "metadata": {
  "kernelspec": {
   "display_name": "Python 3",
   "language": "python",
   "name": "python3"
  },
  "language_info": {
   "codemirror_mode": {
    "name": "ipython",
    "version": 2
   },
   "file_extension": ".py",
   "mimetype": "text/x-python",
   "name": "python",
   "nbconvert_exporter": "python",
   "pygments_lexer": "ipython2",
   "version": "2.7.6"
  }
 },
 "nbformat": 4,
 "nbformat_minor": 5
}
